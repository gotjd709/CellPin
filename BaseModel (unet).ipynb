{
 "cells": [
  {
   "cell_type": "markdown",
   "id": "closed-statistics",
   "metadata": {},
   "source": [
    "# 참고사항\n",
    "* 해당 셀을 돌리기 전에 !pip install keras-unet-collection 를 수행하여 패키지를 설치해야 합니다. (터미널에서 실행 시 pip 앞에 !를 빼고 해야합니다.)\n",
    "* 해당 패키지 설명은 https://pypi.org/project/keras-unet-collection/ 를 참고하면 되겠습니다.\n",
    "* 3번 셀과 17번 셀에서 test변수 경로를 바꿔주시고 Run All을 하면 쉽게 돌릴 수 있습니다.\n",
    "* 모델 변경 시 22번 셀에서 모델을 바꾸면 됩니다.\n",
    "* 제가 해본 결과 \tU-net과 Attention U-net이 결과가 가장 좋은 것 같습니다."
   ]
  },
  {
   "cell_type": "markdown",
   "id": "037b9304",
   "metadata": {},
   "source": [
    "# BaseLine Code\n",
    "\n",
    "- 약 106개의 이미지만을 사용하여 만든 baseline code\n",
    "\n",
    "## Step 1. 실험환경 set-up\n",
    "\n",
    "#### 라이브러리 실행"
   ]
  },
  {
   "cell_type": "code",
   "execution_count": 1,
   "id": "41190b59",
   "metadata": {},
   "outputs": [],
   "source": [
    "import re    # 정규표현식 관련된 작업에 필요한 패키지\n",
    "import os    # I/O 관련된 작업에 필요한 패키지 \n",
    "import pandas as pd     # 데이터 전처리 관련된 작업에 필요한 패키지\n",
    "import numpy as np      # 데이터 array 작업에 필요한 패키지\n",
    "import tensorflow as tf  # 딥러닝 관련된 작업에 필요한 패키지\n",
    "import matplotlib.pyplot as plt    # 데이터 시각화에 관련된 작업에 필요한 패키지\n",
    "from sklearn.model_selection import train_test_split  # 데이터 전처리에 필요한 패키지\n",
    "from keras_unet_collection.models import att_unet_2d, r2_unet_2d, unet_2d, u2net_2d # u-net, u-net++ 모델 불러오는 패키지"
   ]
  },
  {
   "cell_type": "markdown",
   "id": "d5b0214a",
   "metadata": {},
   "source": [
    "#### 필요한 변수들 생성"
   ]
  },
  {
   "cell_type": "code",
   "execution_count": 2,
   "id": "55ad54df",
   "metadata": {},
   "outputs": [],
   "source": [
    "# 데이터 로드할 때 빠르게 로드할 수 있도록하는 설정 변수\n",
    "AUTOTUNE = tf.data.experimental.AUTOTUNE\n",
    "\n",
    "# BATCH_SIZE 변수\n",
    "BATCH_SIZE = 32\n",
    "\n",
    "# 이미지 사이즈 변수\n",
    "IMAGE_SIZE = [256, 256]\n",
    "# IMAGE_SIZE = [512, 512]\n",
    "# IMAGE_SIZE = [3072, 2048] # 고화질로 볼 수 없을까?\n",
    "\n",
    "# EPOCH 크기 변수\n",
    "EPOCHS = 30"
   ]
  },
  {
   "cell_type": "markdown",
   "id": "471d8186",
   "metadata": {},
   "source": [
    "## Step 2. 데이터 준비하기\n",
    "\n",
    "먼저 아래의 링크에서 데이터를 다운 받을 것\n",
    "\n",
    "https://drive.google.com/drive/folders/1Pi5qyX080zY2IdGT1TvvLraBO9DHBxJl?usp=sharing\n",
    "\n",
    "받은 후 터미널 창에 아래의 명령어들을 차례로 입력\n",
    "\n",
    "```\n",
    "$ cd ~/Downloads && cp CellPin ~/aiffel\n",
    "```\n",
    "\n",
    "#### 데이터의 개수 확인"
   ]
  },
  {
   "cell_type": "code",
   "execution_count": 3,
   "id": "5cb3783d",
   "metadata": {},
   "outputs": [
    {
     "name": "stdout",
     "output_type": "stream",
     "text": [
      "/home/aiffel-dj52/aiffel/CellPin\n",
      "85\n",
      "62\n",
      "0\n"
     ]
    }
   ],
   "source": [
    "# 데이터 ROOT 경로 변수\n",
    "ROOT_PATH = os.path.join(os.getenv('HOME'), 'aiffel/CellPin')\n",
    "print(ROOT_PATH)\n",
    "\n",
    "train_filenames = tf.io.gfile.glob(str(ROOT_PATH + '/train/*/*'))\n",
    "# test_filenames = tf.io.gfile.glob(str(ROOT_PATH + '/test/*/*'))\n",
    "test_filenames = tf.io.gfile.glob(str(ROOT_PATH + '/image_0511/*'))\n",
    "val_filenames = tf.io.gfile.glob(str(ROOT_PATH + '/val/*/*'))\n",
    "\n",
    "print(len(train_filenames))\n",
    "print(len(test_filenames))\n",
    "print(len(val_filenames))"
   ]
  },
  {
   "cell_type": "markdown",
   "id": "889cbcef",
   "metadata": {},
   "source": [
    "#### train과 validation을 80:20으로 분할"
   ]
  },
  {
   "cell_type": "code",
   "execution_count": 4,
   "id": "7f9aefd7",
   "metadata": {},
   "outputs": [
    {
     "name": "stdout",
     "output_type": "stream",
     "text": [
      "68\n",
      "17\n"
     ]
    }
   ],
   "source": [
    "filenames = tf.io.gfile.glob(str(ROOT_PATH + '/train/*/*'))\n",
    "filenames.extend(tf.io.gfile.glob(str(ROOT_PATH + '/val/*/*')))\n",
    "\n",
    "train_filenames, val_filenames = train_test_split(filenames, test_size=0.2)\n",
    "\n",
    "print(len(train_filenames))\n",
    "print(len(val_filenames))"
   ]
  },
  {
   "cell_type": "markdown",
   "id": "1526bd00",
   "metadata": {},
   "source": [
    "#### train 데이터 안에 정상 이미지 수와 CPE 이미지 수"
   ]
  },
  {
   "cell_type": "code",
   "execution_count": 5,
   "id": "d845e4b8",
   "metadata": {},
   "outputs": [
    {
     "name": "stdout",
     "output_type": "stream",
     "text": [
      "NORMAL images count in training set: 47\n",
      "CPE images count in training set: 21\n"
     ]
    }
   ],
   "source": [
    "COUNT_NORMAL = len([filename for filename in train_filenames if \"normal\" in filename])\n",
    "print(\"NORMAL images count in training set: \" + str(COUNT_NORMAL))\n",
    "\n",
    "COUNT_CPE = len([filename for filename in train_filenames if \"cpe\" in filename])\n",
    "print(\"CPE images count in training set: \" + str(COUNT_CPE))"
   ]
  },
  {
   "cell_type": "markdown",
   "id": "5a24c1d6",
   "metadata": {},
   "source": [
    "#### val 데이터 안에 정상 이미지 수와 CPE 이미지 수"
   ]
  },
  {
   "cell_type": "code",
   "execution_count": 6,
   "id": "bd4910aa",
   "metadata": {},
   "outputs": [
    {
     "name": "stdout",
     "output_type": "stream",
     "text": [
      "NORMAL images count in training set: 9\n",
      "CPE images count in training set: 8\n"
     ]
    }
   ],
   "source": [
    "COUNT_NORMAL = len([filename for filename in val_filenames if \"normal\" in filename])\n",
    "print(\"NORMAL images count in training set: \" + str(COUNT_NORMAL))\n",
    "\n",
    "COUNT_CPE = len([filename for filename in val_filenames if \"cpe\" in filename])\n",
    "print(\"CPE images count in training set: \" + str(COUNT_CPE))"
   ]
  },
  {
   "cell_type": "markdown",
   "id": "b8b9641c",
   "metadata": {},
   "source": [
    "#### test 데이터 안에 정상 이미지 수와 CPE 이미지 수"
   ]
  },
  {
   "cell_type": "code",
   "execution_count": 7,
   "id": "e3278b46",
   "metadata": {},
   "outputs": [
    {
     "name": "stdout",
     "output_type": "stream",
     "text": [
      "NORMAL images count in training set: 0\n",
      "CPE images count in training set: 0\n"
     ]
    }
   ],
   "source": [
    "COUNT_NORMAL = len([filename for filename in test_filenames if \"normal\" in filename])\n",
    "print(\"NORMAL images count in training set: \" + str(COUNT_NORMAL))\n",
    "\n",
    "COUNT_CPE = len([filename for filename in test_filenames if \"cpe\" in filename])\n",
    "print(\"CPE images count in training set: \" + str(COUNT_CPE))"
   ]
  },
  {
   "cell_type": "markdown",
   "id": "4ef00eef",
   "metadata": {},
   "source": [
    "#### tf.data 인스턴스를 만들기"
   ]
  },
  {
   "cell_type": "code",
   "execution_count": 8,
   "id": "1564e8e5",
   "metadata": {},
   "outputs": [],
   "source": [
    "train_list_ds = tf.data.Dataset.from_tensor_slices(train_filenames)\n",
    "val_list_ds = tf.data.Dataset.from_tensor_slices(val_filenames)"
   ]
  },
  {
   "cell_type": "markdown",
   "id": "2df1f374",
   "metadata": {},
   "source": [
    "#### train data와 val data의 개수 확인"
   ]
  },
  {
   "cell_type": "code",
   "execution_count": 9,
   "id": "54cc6392",
   "metadata": {},
   "outputs": [
    {
     "name": "stdout",
     "output_type": "stream",
     "text": [
      "Training images count: 68\n",
      "Validating images count: 17\n"
     ]
    }
   ],
   "source": [
    "TRAIN_IMG_COUNT = tf.data.experimental.cardinality(train_list_ds).numpy()\n",
    "print(\"Training images count: \" + str(TRAIN_IMG_COUNT))\n",
    "\n",
    "VAL_IMG_COUNT = tf.data.experimental.cardinality(val_list_ds).numpy()\n",
    "print(\"Validating images count: \" + str(VAL_IMG_COUNT))"
   ]
  },
  {
   "cell_type": "markdown",
   "id": "4153af08",
   "metadata": {},
   "source": [
    "#### 라벨 이름들 확인"
   ]
  },
  {
   "cell_type": "code",
   "execution_count": 10,
   "id": "03b5e72f",
   "metadata": {},
   "outputs": [
    {
     "name": "stdout",
     "output_type": "stream",
     "text": [
      "['cpe' 'normal']\n"
     ]
    }
   ],
   "source": [
    "CLASS_NAMES = np.array([str(tf.strings.split(item, os.path.sep)[-1].numpy())[2:-1]\n",
    "                        for item in tf.io.gfile.glob(str(ROOT_PATH + \"/train/*\"))])\n",
    "print(CLASS_NAMES)"
   ]
  },
  {
   "cell_type": "markdown",
   "id": "85fcc26b",
   "metadata": {},
   "source": [
    "#### 라벨링 함수를 만들어 보기"
   ]
  },
  {
   "cell_type": "code",
   "execution_count": 11,
   "id": "68ebb4a2",
   "metadata": {},
   "outputs": [],
   "source": [
    "def get_label(file_path):\n",
    "    parts = tf.strings.split(file_path, os.path.sep)\n",
    "    return parts[-2] == \"cpe\""
   ]
  },
  {
   "cell_type": "markdown",
   "id": "36baba73",
   "metadata": {},
   "source": [
    "#### decode_img 함수와 process_path 함수를 만들기"
   ]
  },
  {
   "cell_type": "code",
   "execution_count": 12,
   "id": "a4d0d72a",
   "metadata": {},
   "outputs": [],
   "source": [
    "def decode_img(img):\n",
    "  # 이미지를 uint8 tensor로 바꾼다.\n",
    "  img = tf.image.decode_jpeg(img, channels=3)\n",
    "  # img를 범위 [0,1]의 float32 데이터 타입으로 바꾼다.\n",
    "  img = tf.image.convert_image_dtype(img, tf.float32)\n",
    "  # img의 이미지 사이즈를 IMAGE_SIZE에서 지정한 사이즈로 수정한다.\n",
    "  return tf.image.resize(img, IMAGE_SIZE)\n",
    "\n",
    "def process_path(file_path):\n",
    "    label = get_label(file_path)\n",
    "    img = tf.io.read_file(file_path)\n",
    "    img = decode_img(img)\n",
    "    return img, label"
   ]
  },
  {
   "cell_type": "markdown",
   "id": "a315ebf3",
   "metadata": {},
   "source": [
    "#### train과 val에 함수들 적용해주기"
   ]
  },
  {
   "cell_type": "code",
   "execution_count": 13,
   "id": "083e38a5",
   "metadata": {},
   "outputs": [],
   "source": [
    "train_ds = train_list_ds.map(process_path, num_parallel_calls=AUTOTUNE)\n",
    "val_ds = val_list_ds.map(process_path, num_parallel_calls=AUTOTUNE)"
   ]
  },
  {
   "cell_type": "markdown",
   "id": "bff0f9c3",
   "metadata": {},
   "source": [
    "#### 전처리 함수 만들기 및 적용"
   ]
  },
  {
   "cell_type": "code",
   "execution_count": 14,
   "id": "2d42f944",
   "metadata": {},
   "outputs": [],
   "source": [
    "def prepare_for_training(ds, shuffle_buffer_size=1000):\n",
    "\n",
    "#     ds = ds.shuffle(buffer_size=shuffle_buffer_size)\n",
    "\n",
    "    ds = ds.repeat()\n",
    "\n",
    "    ds = ds.batch(BATCH_SIZE)\n",
    "\n",
    "    ds = ds.prefetch(buffer_size=AUTOTUNE)\n",
    "\n",
    "    return ds\n",
    "\n",
    "train_ds = prepare_for_training(train_ds)\n",
    "val_ds = prepare_for_training(val_ds)"
   ]
  },
  {
   "cell_type": "markdown",
   "id": "42fc93e7",
   "metadata": {},
   "source": [
    "#### Image shape를 변경 체크하기"
   ]
  },
  {
   "cell_type": "code",
   "execution_count": 15,
   "id": "67572efe",
   "metadata": {},
   "outputs": [
    {
     "name": "stdout",
     "output_type": "stream",
     "text": [
      "Image shape:  (32, 256, 256, 3)\n",
      "Label:  [False False False False  True False False False False  True False  True\n",
      " False  True  True False  True False False False False False  True False\n",
      " False False False  True  True False False False]\n"
     ]
    }
   ],
   "source": [
    "for image, label in train_ds.take(1):\n",
    "    print(\"Image shape: \", image.numpy().shape)\n",
    "    print(\"Label: \", label.numpy())"
   ]
  },
  {
   "cell_type": "code",
   "execution_count": 16,
   "id": "adverse-characterization",
   "metadata": {},
   "outputs": [
    {
     "name": "stdout",
     "output_type": "stream",
     "text": [
      "Image shape:  (32, 256, 256, 3)\n",
      "Label:  [False False  True False  True  True  True  True  True False False  True\n",
      " False False  True False False False False  True False  True  True  True\n",
      "  True  True False False  True False False  True]\n"
     ]
    }
   ],
   "source": [
    "for image, label in val_ds.take(1):\n",
    "    print(\"Image shape: \", image.numpy().shape)\n",
    "    print(\"Label: \", label.numpy())"
   ]
  },
  {
   "cell_type": "markdown",
   "id": "6ddb1f96",
   "metadata": {},
   "source": [
    "#### test 데이터 셋도 만들어 보기 & 데이터의 갯수 확인"
   ]
  },
  {
   "cell_type": "code",
   "execution_count": 17,
   "id": "7149589a",
   "metadata": {},
   "outputs": [
    {
     "name": "stdout",
     "output_type": "stream",
     "text": [
      "62\n"
     ]
    }
   ],
   "source": [
    "test_list_ds = tf.data.Dataset.list_files(str(ROOT_PATH + '/image_0511/*'))\n",
    "# test_list_ds = tf.data.Dataset.list_files(str(ROOT_PATH + '/test/*/*'))\n",
    "TEST_IMAGE_COUNT = tf.data.experimental.cardinality(test_list_ds).numpy()\n",
    "test_ds = test_list_ds.map(process_path, num_parallel_calls=AUTOTUNE)\n",
    "test_ds = test_ds.batch(BATCH_SIZE)\n",
    "\n",
    "print(TEST_IMAGE_COUNT)"
   ]
  },
  {
   "cell_type": "code",
   "execution_count": 18,
   "id": "specific-warning",
   "metadata": {},
   "outputs": [
    {
     "name": "stdout",
     "output_type": "stream",
     "text": [
      "Image shape:  (32, 256, 256, 3)\n",
      "Label:  [False False False False False False False False False False False False\n",
      " False False False False False False False False False False False False\n",
      " False False False False False False False False]\n",
      "Image shape:  (30, 256, 256, 3)\n",
      "Label:  [False False False False False False False False False False False False\n",
      " False False False False False False False False False False False False\n",
      " False False False False False False]\n"
     ]
    }
   ],
   "source": [
    "for image, label in test_ds.take(2):\n",
    "    print(\"Image shape: \", image.numpy().shape)\n",
    "    print(\"Label: \", label.numpy())"
   ]
  },
  {
   "cell_type": "markdown",
   "id": "900e39e9",
   "metadata": {},
   "source": [
    "## Step 3. 데이터 시각화\n",
    "\n",
    "#### 16개의 샘플 꺼내서 확인"
   ]
  },
  {
   "cell_type": "code",
   "execution_count": 19,
   "id": "ea95c4b1",
   "metadata": {},
   "outputs": [],
   "source": [
    "# image_batch, label_batch = next(iter(train_ds))\n",
    "\n",
    "# def show_batch(image_batch, label_batch):\n",
    "#     plt.figure(figsize=(10,10))\n",
    "#     for n in range(16):\n",
    "#         ax = plt.subplot(4,4,n+1)\n",
    "#         plt.imshow(image_batch[n])\n",
    "#         if label_batch[n]:\n",
    "#             plt.title(\"CPE\")\n",
    "#         else:\n",
    "#             plt.title(\"NORMAL\")\n",
    "#         plt.axis(\"off\")\n",
    "\n",
    "# show_batch(image_batch.numpy(), label_batch.numpy())"
   ]
  },
  {
   "cell_type": "code",
   "execution_count": 20,
   "id": "criminal-launch",
   "metadata": {},
   "outputs": [],
   "source": [
    "# weight_for_0 = (1 / COUNT_NORMAL)*(TRAIN_IMG_COUNT)/2.0 \n",
    "# weight_for_1 = (1 / COUNT_CPE)*(TRAIN_IMG_COUNT)/2.0\n",
    "\n",
    "# class_weight = {0: weight_for_0, 1: weight_for_1}\n",
    "\n",
    "# print('Weight for class 0: {:.2f}'.format(weight_for_0))\n",
    "# print('Weight for class 1: {:.2f}'.format(weight_for_1))"
   ]
  },
  {
   "cell_type": "code",
   "execution_count": 21,
   "id": "cleared-machine",
   "metadata": {},
   "outputs": [],
   "source": [
    "# model = unet_2d(input_size = (None, None, 3),\n",
    "#                 filter_num = [32, 64, 128, 256],\n",
    "#                 n_labels = 1,\n",
    "#                 output_activation = \"Sigmoid\")"
   ]
  },
  {
   "cell_type": "code",
   "execution_count": 22,
   "id": "atmospheric-picking",
   "metadata": {},
   "outputs": [],
   "source": [
    "model = att_unet_2d(\n",
    "    input_size = (None, None, 3),\n",
    "    filter_num = [32, 64, 128, 256], # default로 생각되는 필터를 넣었습니다. 메모리 에러가 뜬다면 해당 숫자를 낮추시면 됩니다.\n",
    "    n_labels = 1,\n",
    "    output_activation = \"Sigmoid\",   # default는 softmax이지만 빈 결과로 나옵니다.\n",
    ")"
   ]
  },
  {
   "cell_type": "code",
   "execution_count": 23,
   "id": "aerial-principal",
   "metadata": {
    "scrolled": true
   },
   "outputs": [],
   "source": [
    "# tf.keras.utils.plot_model(model, to_file = \"model.png\", show_shapes = True, show_layer_names = False) # 모델 모양을 보여줍니다."
   ]
  },
  {
   "cell_type": "code",
   "execution_count": 24,
   "id": "reflected-durham",
   "metadata": {
    "scrolled": false
   },
   "outputs": [],
   "source": [
    "with tf.device('/gpu:0'):\n",
    "    pred = model.predict(test_ds)"
   ]
  },
  {
   "cell_type": "code",
   "execution_count": 25,
   "id": "formal-adventure",
   "metadata": {},
   "outputs": [],
   "source": [
    "# test_ds"
   ]
  },
  {
   "cell_type": "code",
   "execution_count": 26,
   "id": "verified-central",
   "metadata": {},
   "outputs": [],
   "source": [
    "# pred.shape"
   ]
  },
  {
   "cell_type": "code",
   "execution_count": 27,
   "id": "macro-saying",
   "metadata": {},
   "outputs": [
    {
     "data": {
      "image/png": "[encoded data removed]",
      "text/plain": [
       "<Figure size 720x720 with 1 Axes>"
      ]
     },
     "metadata": {
      "needs_background": "light"
     },
     "output_type": "display_data"
    }
   ],
   "source": [
    "# pred를 시각화 하고, 저장합니다.\n",
    "plt.figure(figsize=(10,10))\n",
    "\n",
    "for n in range(62):\n",
    "#     ax = plt.subplot(4,4,n+1)\n",
    "    img = plt.imshow(pred[n], cmap = \"gray\")\n",
    "    plt.savefig(fname = f\"img_{n+1}\")\n",
    "    plt.axis(\"off\")"
   ]
  },
  {
   "cell_type": "code",
   "execution_count": null,
   "id": "plain-rapid",
   "metadata": {},
   "outputs": [],
   "source": []
  }
 ],
 "metadata": {
  "kernelspec": {
   "display_name": "aiffel",
   "language": "python",
   "name": "aiffel"
  },
  "language_info": {
   "codemirror_mode": {
    "name": "ipython",
    "version": 3
   },
   "file_extension": ".py",
   "mimetype": "text/x-python",
   "name": "python",
   "nbconvert_exporter": "python",
   "pygments_lexer": "ipython3",
   "version": "3.7.10"
  }
 },
 "nbformat": 4,
 "nbformat_minor": 5
}
